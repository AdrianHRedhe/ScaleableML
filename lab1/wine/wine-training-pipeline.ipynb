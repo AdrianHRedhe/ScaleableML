{
 "cells": [
  {
   "cell_type": "code",
   "execution_count": 1,
   "id": "063d9a22",
   "metadata": {},
   "outputs": [
    {
     "name": "stderr",
     "output_type": "stream",
     "text": [
      "/Users/adrian/miniconda3/envs/sml-jupyter/lib/python3.10/site-packages/tqdm/auto.py:21: TqdmWarning: IProgress not found. Please update jupyter and ipywidgets. See https://ipywidgets.readthedocs.io/en/stable/user_install.html\n",
      "  from .autonotebook import tqdm as notebook_tqdm\n"
     ]
    }
   ],
   "source": [
    "import hopsworks\n",
    "import pandas as pd\n",
    "from sklearn.neighbors import KNeighborsClassifier\n",
    "from sklearn.model_selection import train_test_split\n",
    "from sklearn.model_selection import GridSearchCV\n",
    "from sklearn.metrics import accuracy_score\n",
    "from sklearn.metrics import confusion_matrix\n",
    "from sklearn.metrics import classification_report\n",
    "import seaborn as sns\n",
    "from matplotlib import pyplot\n",
    "from hsml.schema import Schema\n",
    "from hsml.model_schema import ModelSchema\n",
    "import joblib\n",
    "import os"
   ]
  },
  {
   "cell_type": "markdown",
   "id": "f93e78a0",
   "metadata": {},
   "source": [
    "### In this notebook we are going to do 3 things:\n",
    "1. Create a feature view\n",
    "2. Train several classifiers and regression models and evaluate their performance on the test set\n",
    "3. Upload one of the better models to Hopsworks to be used with the other programs."
   ]
  },
  {
   "cell_type": "code",
   "execution_count": 50,
   "id": "5ce90341",
   "metadata": {},
   "outputs": [
    {
     "name": "stdout",
     "output_type": "stream",
     "text": [
      "Connection closed.\n",
      "Connected. Call `.close()` to terminate connection gracefully.\n"
     ]
    },
    {
     "name": "stdout",
     "output_type": "stream",
     "text": [
      "\n",
      "Logged in to project, explore it here https://c.app.hopsworks.ai:443/p/193686\n",
      "Connected. Call `.close()` to terminate connection gracefully.\n"
     ]
    }
   ],
   "source": [
    "# Login to hopsworks\n",
    "project = hopsworks.login()\n",
    "fs = project.get_feature_store()"
   ]
  },
  {
   "cell_type": "code",
   "execution_count": 51,
   "id": "359ed7b3",
   "metadata": {},
   "outputs": [],
   "source": [
    "# The feature view is the input set of features for your model. The features can come from different feature groups.    \n",
    "# You can select features from different feature groups and join them together to create a feature view\n",
    "\n",
    "wine_fg = fs.get_feature_group(name='wine', version=1)\n",
    "query = wine_fg.select_all()\n",
    "feature_view = fs.get_or_create_feature_view(name='wine',\n",
    "                                  version=1,\n",
    "                                  description='Read from Wine quality dataset',\n",
    "                                  labels=['quality'],\n",
    "                                  query=query)"
   ]
  },
  {
   "cell_type": "markdown",
   "id": "49697dc2",
   "metadata": {},
   "source": [
    "### Splitting the dataset and trying out our models"
   ]
  },
  {
   "cell_type": "code",
   "execution_count": 52,
   "id": "42fbcfd3",
   "metadata": {},
   "outputs": [
    {
     "name": "stdout",
     "output_type": "stream",
     "text": [
      "Finished: Reading data from Hopsworks, using ArrowFlight (4.17s) \n"
     ]
    },
    {
     "name": "stderr",
     "output_type": "stream",
     "text": [
      "VersionWarning: Incremented version to `6`.\n"
     ]
    }
   ],
   "source": [
    "X_train, X_test, y_train, y_test = feature_view.train_test_split(0.2)"
   ]
  },
  {
   "cell_type": "code",
   "execution_count": 58,
   "id": "030252f2",
   "metadata": {},
   "outputs": [],
   "source": [
    "# Lets define our models\n",
    "from sklearn.svm import SVC\n",
    "from sklearn.ensemble import RandomForestClassifier\n",
    "from sklearn.tree import DecisionTreeClassifier\n",
    "from sklearn.neighbors import KNeighborsClassifier\n",
    "\n",
    "clf1 = DecisionTreeClassifier(max_depth=5)\n",
    "p1 = {'max_depth': [1, 5, 10, 20]}\n",
    "clf2 = KNeighborsClassifier(n_neighbors=4)\n",
    "p2 = {'n_neighbors': [1, 3, 5, 7]}\n",
    "clf3 = RandomForestClassifier()\n",
    "p3 = {'max_depth': [1, 5, 10, 20]}\n",
    "clf4 = SVC()\n",
    "p4 = {'kernel': ['linear','rbf']}\n",
    "\n",
    "models = [clf1,clf2,clf3,clf4]\n",
    "params_to_be_tuned = [p1,p2,p3,p4]"
   ]
  },
  {
   "cell_type": "code",
   "execution_count": 55,
   "id": "b785a81f",
   "metadata": {},
   "outputs": [],
   "source": [
    "def hyperparameter_tuning(model, params, X_train, y_train):\n",
    "    gs = GridSearchCV(model,\n",
    "                        param_grid=params,\n",
    "                        scoring='accuracy',\n",
    "                        cv=3)\n",
    "\n",
    "    gs.fit(X_train,y_train)\n",
    "    return gs"
   ]
  },
  {
   "cell_type": "markdown",
   "id": "2f846a7b",
   "metadata": {},
   "source": [
    "### Training and tuning the models"
   ]
  },
  {
   "cell_type": "code",
   "execution_count": 61,
   "id": "6a21074f",
   "metadata": {},
   "outputs": [],
   "source": [
    "tuned_models = []\n",
    "for i in range(len(models)):\n",
    "    print(f'Tuning model {i+1}')\n",
    "    tuned_model = hyperparameter_tuning(models[i], params_to_be_tuned[i], X_train, y_train.values.ravel())\n",
    "    tuned_models.append(tuned_model)"
   ]
  },
  {
   "cell_type": "markdown",
   "id": "5f6ed6fd",
   "metadata": {},
   "source": [
    "### Evaluating the models"
   ]
  },
  {
   "cell_type": "code",
   "execution_count": 67,
   "id": "db2f2b93",
   "metadata": {},
   "outputs": [
    {
     "name": "stdout",
     "output_type": "stream",
     "text": [
      "[0.5337711069418386, 0.44183864915572235, 0.575046904315197, 0.5347091932457786]\n",
      "[0.5082506598585352, 0.41872971653938484, 0.5566421070234541, 0.4657941496662869]\n"
     ]
    }
   ],
   "source": [
    "preds = [model.predict(X_test) for model in tuned_models]\n",
    "accs = [accuracy_score(y_test,y_pred) for y_pred in preds]\n",
    "f1s = [f1_score(y_test,y_pred,average='weighted') for y_pred in preds]\n",
    "\n",
    "print(accs)\n",
    "print(f1s)"
   ]
  },
  {
   "cell_type": "code",
   "execution_count": 43,
   "id": "59fbe581",
   "metadata": {},
   "outputs": [
    {
     "name": "stdout",
     "output_type": "stream",
     "text": [
      "0.4530956848030019\n"
     ]
    }
   ],
   "source": [
    "n_max_class = y_val.reset_index().groupby('quality').count()['index'].max()\n",
    "n_total = len(y_val)\n",
    "benchmark = n_max_class/n_total\n",
    "\n",
    "print(benchmark)"
   ]
  },
  {
   "cell_type": "markdown",
   "id": "f39405ce",
   "metadata": {},
   "source": [
    "We can see that the models do perform better than the benchmark, the benchmark here being a very naive  \n",
    "approach where we just classify everything as the most common class. \n",
    "\n",
    "The benchmark is **45.3 %** and the best performing model did get **57.5 %** accuracy on the test set.\n",
    "\n",
    "While this is not a lot better than the benchmark, it does seem like the bulk of the extra work should  \n",
    "actually go to feature engineering, like cutting down or changing features and reducing colinearity,   \n",
    "and not to tune parameters and selecting models.\n",
    "\n",
    "Another thing that would be of a very high level of importance would be to reframe the problem, possibly  \n",
    "as a binary classification of good wines vs bad wines where the classes are decided on a certain number  \n",
    "of the quality label.\n",
    "\n",
    "Below we can see the model that performed the best and the hyperparameter that worked best for this task."
   ]
  },
  {
   "cell_type": "code",
   "execution_count": 75,
   "id": "5f2e244d",
   "metadata": {},
   "outputs": [
    {
     "name": "stdout",
     "output_type": "stream",
     "text": [
      "RandomForestClassifier() {'max_depth': 20}\n"
     ]
    }
   ],
   "source": [
    "best_model = tuned_models[2]\n",
    "print(best_model.estimator, best_model.best_params_)"
   ]
  },
  {
   "cell_type": "markdown",
   "id": "c9798049",
   "metadata": {},
   "source": [
    "Lets also take a more in depth look at the metrics for each of the classes  \n",
    "and also a look at a confusion matrix"
   ]
  },
  {
   "cell_type": "code",
   "execution_count": 83,
   "id": "77aa0aee",
   "metadata": {},
   "outputs": [
    {
     "data": {
      "text/html": [
       "<div>\n",
       "<style scoped>\n",
       "    .dataframe tbody tr th:only-of-type {\n",
       "        vertical-align: middle;\n",
       "    }\n",
       "\n",
       "    .dataframe tbody tr th {\n",
       "        vertical-align: top;\n",
       "    }\n",
       "\n",
       "    .dataframe thead th {\n",
       "        text-align: right;\n",
       "    }\n",
       "</style>\n",
       "<table border=\"1\" class=\"dataframe\">\n",
       "  <thead>\n",
       "    <tr style=\"text-align: right;\">\n",
       "      <th></th>\n",
       "      <th>precision</th>\n",
       "      <th>recall</th>\n",
       "      <th>f1-score</th>\n",
       "      <th>support</th>\n",
       "    </tr>\n",
       "  </thead>\n",
       "  <tbody>\n",
       "    <tr>\n",
       "      <th>3</th>\n",
       "      <td>1.000000</td>\n",
       "      <td>0.000000</td>\n",
       "      <td>0.000000</td>\n",
       "      <td>6.000000</td>\n",
       "    </tr>\n",
       "    <tr>\n",
       "      <th>4</th>\n",
       "      <td>0.428571</td>\n",
       "      <td>0.071429</td>\n",
       "      <td>0.122449</td>\n",
       "      <td>42.000000</td>\n",
       "    </tr>\n",
       "    <tr>\n",
       "      <th>5</th>\n",
       "      <td>0.599469</td>\n",
       "      <td>0.626039</td>\n",
       "      <td>0.612466</td>\n",
       "      <td>361.000000</td>\n",
       "    </tr>\n",
       "    <tr>\n",
       "      <th>6</th>\n",
       "      <td>0.561939</td>\n",
       "      <td>0.678959</td>\n",
       "      <td>0.614931</td>\n",
       "      <td>461.000000</td>\n",
       "    </tr>\n",
       "    <tr>\n",
       "      <th>7</th>\n",
       "      <td>0.564516</td>\n",
       "      <td>0.402299</td>\n",
       "      <td>0.469799</td>\n",
       "      <td>174.000000</td>\n",
       "    </tr>\n",
       "    <tr>\n",
       "      <th>8</th>\n",
       "      <td>1.000000</td>\n",
       "      <td>0.047619</td>\n",
       "      <td>0.090909</td>\n",
       "      <td>21.000000</td>\n",
       "    </tr>\n",
       "    <tr>\n",
       "      <th>9</th>\n",
       "      <td>1.000000</td>\n",
       "      <td>0.000000</td>\n",
       "      <td>0.000000</td>\n",
       "      <td>1.000000</td>\n",
       "    </tr>\n",
       "    <tr>\n",
       "      <th>accuracy</th>\n",
       "      <td>0.575047</td>\n",
       "      <td>0.575047</td>\n",
       "      <td>0.575047</td>\n",
       "      <td>0.575047</td>\n",
       "    </tr>\n",
       "    <tr>\n",
       "      <th>macro avg</th>\n",
       "      <td>0.736357</td>\n",
       "      <td>0.260906</td>\n",
       "      <td>0.272936</td>\n",
       "      <td>1066.000000</td>\n",
       "    </tr>\n",
       "    <tr>\n",
       "      <th>weighted avg</th>\n",
       "      <td>0.581321</td>\n",
       "      <td>0.575047</td>\n",
       "      <td>0.556642</td>\n",
       "      <td>1066.000000</td>\n",
       "    </tr>\n",
       "  </tbody>\n",
       "</table>\n",
       "</div>"
      ],
      "text/plain": [
       "              precision    recall  f1-score      support\n",
       "3              1.000000  0.000000  0.000000     6.000000\n",
       "4              0.428571  0.071429  0.122449    42.000000\n",
       "5              0.599469  0.626039  0.612466   361.000000\n",
       "6              0.561939  0.678959  0.614931   461.000000\n",
       "7              0.564516  0.402299  0.469799   174.000000\n",
       "8              1.000000  0.047619  0.090909    21.000000\n",
       "9              1.000000  0.000000  0.000000     1.000000\n",
       "accuracy       0.575047  0.575047  0.575047     0.575047\n",
       "macro avg      0.736357  0.260906  0.272936  1066.000000\n",
       "weighted avg   0.581321  0.575047  0.556642  1066.000000"
      ]
     },
     "execution_count": 83,
     "metadata": {},
     "output_type": "execute_result"
    }
   ],
   "source": [
    "y_pred = best_model.predict(X_test)\n",
    "\n",
    "metrics = classification_report(y_test, y_pred, output_dict=True, zero_division=True)\n",
    "\n",
    "pd.DataFrame(metrics).transpose()"
   ]
  },
  {
   "cell_type": "code",
   "execution_count": 89,
   "id": "aa29dd4c",
   "metadata": {},
   "outputs": [
    {
     "data": {
      "image/png": "[encoded data removed]",
      "text/plain": [
       "<Figure size 1000x500 with 2 Axes>"
      ]
     },
     "metadata": {},
     "output_type": "display_data"
    }
   ],
   "source": [
    "rows = [f'True_{classNumber}' for classNumber in range(3,10)]\n",
    "cols = [f'Pred_{classNumber}' for classNumber in range(3,10)]\n",
    "\n",
    "conf_matrix = confusion_matrix(y_test, y_pred)\n",
    "confusion_matrix_df = pd.DataFrame(conf_matrix,rows,cols)\n",
    "\n",
    "pyplot.figure(figsize=(10,5))\n",
    "g = sns.heatmap(confusion_matrix_df,annot=True,lw=.5)\n",
    "fig = g.get_figure()"
   ]
  },
  {
   "cell_type": "markdown",
   "id": "d1e9c6f1",
   "metadata": {},
   "source": [
    "As previously hypothesised we can see that the recall for any other class than 5 and 6 is abysmally low.\n",
    "We would probably need more data, or to reframe the question somewhat in order for models to do much better  \n",
    "\n",
    "However, it is still ok performance given the scope of the assignment.\n",
    "\n",
    "Lets **save** this model to a folder in the repository and lets also **upload it to hopsworks**"
   ]
  },
  {
   "cell_type": "code",
   "execution_count": 90,
   "id": "bcfdfc4f",
   "metadata": {},
   "outputs": [
    {
     "name": "stdout",
     "output_type": "stream",
     "text": [
      "Connected. Call `.close()` to terminate connection gracefully.\n"
     ]
    },
    {
     "name": "stderr",
     "output_type": "stream",
     "text": [
      "Uploading: 100.000%|██████████| 30471/30471 elapsed<00:01 remaining<00:001,  2.88it/s]\n",
      "Uploading: 100.000%|██████████| 26316047/26316047 elapsed<00:43 remaining<00:0088it/s]\n",
      "Uploading: 100.000%|██████████| 935/935 elapsed<00:01 remaining<00:00<01:47, 26.95s/it]\n",
      "Model export complete: 100%|██████████| 6/6 [00:54<00:00,  9.04s/it]                   "
     ]
    },
    {
     "name": "stdout",
     "output_type": "stream",
     "text": [
      "Model created, explore it at https://c.app.hopsworks.ai:443/p/193686/models/wine_model/1\n"
     ]
    },
    {
     "name": "stderr",
     "output_type": "stream",
     "text": [
      "\n"
     ]
    },
    {
     "data": {
      "text/plain": [
       "Model(name: 'wine_model', version: 1)"
      ]
     },
     "execution_count": 90,
     "metadata": {},
     "output_type": "execute_result"
    }
   ],
   "source": [
    "# We will now upload our model to the Hopsworks Model Registry. First get an object for the model registry.\n",
    "mr = project.get_model_registry()\n",
    "\n",
    "# The contents of the 'wine_model' directory will be saved to the model registry. Create the dir, first.\n",
    "model_dir=\"wine_model\"\n",
    "if os.path.isdir(model_dir) == False:\n",
    "    os.mkdir(model_dir)\n",
    "\n",
    "# Save both our model and the confusion matrix to 'model_dir', whose contents will be uploaded to the model registry\n",
    "joblib.dump(best_model, model_dir + \"/wine_model.pkl\")\n",
    "fig.savefig(model_dir + \"/confusion_matrix.png\")    \n",
    "\n",
    "# Specify the schema of the model's input/output using the features (X_train) and labels (y_train)\n",
    "input_schema = Schema(X_train)\n",
    "output_schema = Schema(y_train)\n",
    "model_schema = ModelSchema(input_schema, output_schema)\n",
    "\n",
    "# Create an entry in the model registry that includes the model's name, desc, metrics\n",
    "wine_model = mr.python.create_model(\n",
    "    name=\"wine_model\", \n",
    "    metrics={\"accuracy\" : metrics['accuracy']},\n",
    "    model_schema=model_schema,\n",
    "    description=\"Wine Quality Predictor\"\n",
    ")\n",
    "\n",
    "# Upload the model to the model registry, including all files in 'model_dir'\n",
    "wine_model.save(model_dir)"
   ]
  }
 ],
 "metadata": {
  "jupytext": {
   "formats": "ipynb,py:percent"
  },
  "kernelspec": {
   "display_name": "Python 3 (ipykernel)",
   "language": "python",
   "name": "python3"
  },
  "language_info": {
   "codemirror_mode": {
    "name": "ipython",
    "version": 3
   },
   "file_extension": ".py",
   "mimetype": "text/x-python",
   "name": "python",
   "nbconvert_exporter": "python",
   "pygments_lexer": "ipython3",
   "version": "3.10.13"
  }
 },
 "nbformat": 4,
 "nbformat_minor": 5
}
